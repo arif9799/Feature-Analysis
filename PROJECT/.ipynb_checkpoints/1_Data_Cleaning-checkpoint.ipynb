{
 "cells": [
  {
   "cell_type": "markdown",
   "metadata": {
    "id": "FwXfjjyvLDNa"
   },
   "source": [
    "Removing Criteria:\n",
    "- Adult Column (Has values other than 'TRUE' and 'FALSE')\n",
    "- release_date (can seprate it into three columns year, month and date) and drop month and date. (rather pull it during inner join with IMDB movies)\n",
    "-budget and revenue column, finance related columns have different currencies (needs to be standardized)\n",
    "- Merging Files together. \n",
    "- Currency Conversion and Removing Dollar signs.\n",
    "-\n",
    "\n"
   ]
  },
  {
   "cell_type": "code",
   "execution_count": null,
   "metadata": {
    "colab": {
     "base_uri": "https://localhost:8080/"
    },
    "executionInfo": {
     "elapsed": 13191,
     "status": "ok",
     "timestamp": 1639447001895,
     "user": {
      "displayName": "Arif Waghbakriwala",
      "photoUrl": "https://lh3.googleusercontent.com/a/default-user=s64",
      "userId": "13401450137835164561"
     },
     "user_tz": 300
    },
    "id": "J9BZoM5HDyn5",
    "outputId": "dc0ce45e-d50d-4ff5-a923-e864a8b2673b"
   },
   "outputs": [
    {
     "name": "stdout",
     "output_type": "stream",
     "text": [
      "Mounted at /content/drive\n"
     ]
    }
   ],
   "source": [
    "#For Mounting the google drive in colab notebook, to access files saved in the folder stored in drive.\n",
    "from google.colab import drive\n",
    "drive.mount('/content/drive')"
   ]
  },
  {
   "cell_type": "code",
   "execution_count": null,
   "metadata": {
    "id": "YMFXdUHqEGg3"
   },
   "outputs": [],
   "source": [
    "#One line code to load the python script to work with \"R\" language in colab notebook.\n",
    "#After loading this, each cell that needs execution in \"R\", should start with \"%%R\"\n",
    "%load_ext rpy2.ipython\n"
   ]
  },
  {
   "cell_type": "code",
   "execution_count": null,
   "metadata": {
    "id": "dpV1W3SDQG3T"
   },
   "outputs": [],
   "source": [
    "from rpy2.robjects.vectors import StrVector\n",
    "from rpy2.robjects.packages import importr\n",
    "utils = importr(\"utils\")\n",
    "utils.install_packages(\"priceR\")"
   ]
  },
  {
   "cell_type": "code",
   "execution_count": null,
   "metadata": {
    "id": "pGrBfIrc_5LY"
   },
   "outputs": [],
   "source": [
    "#To check na values column wise\n",
    "%%R\n",
    "fun <- function(x){\n",
    "    tmp <- is.na(x)\n",
    "    apply(tmp,2,sum)\n",
    "}"
   ]
  },
  {
   "cell_type": "code",
   "execution_count": null,
   "metadata": {
    "id": "zOfVfJvuEqXt"
   },
   "outputs": [],
   "source": [
    "#Loading the csv file \"movies_metadata.csv\" from the folder in the drive, and storing it into the variable \"stage_1\"\n",
    "%%R\n",
    "library(\"tidyverse\")\n",
    "library(\"readr\")\n",
    "library(\"stringr\")\n",
    "library(\"dplyr\")\n",
    "library(\"priceR\")\n",
    "library(\"tibble\")\n",
    "\n",
    "\n",
    "stage_1 <- as_tibble(read_csv(\"/content/drive/MyDrive/IDMP PROJECT/movies_metadata.csv\"))\n",
    "colnames(stage_1)"
   ]
  },
  {
   "cell_type": "code",
   "execution_count": null,
   "metadata": {
    "id": "Wq3hcBGsIeNF"
   },
   "outputs": [],
   "source": [
    " #Dividing the list of columns into the ones that are to be kept and the ones to be reserved\n",
    "%%R\n",
    "to_keep_columns <- c(\"adult\",\"genres\", \"imdb_id\",\"popularity\",\"runtime\",\"vote_count\",\"production_countries\",\"original_language\",\"title\")\n",
    "drop_columns <- c(\"belongs_to_collection\",\"homepage\",\"id\",\"budget\",\"poster_path\",\"video\",\"tagline\",\"production_companies\",\"overview\",\"release_date\",\"revenue\",\"status\",\"original_title\",\"vote_average\")"
   ]
  },
  {
   "cell_type": "code",
   "execution_count": null,
   "metadata": {
    "id": "VoSAdUpxbZVA"
   },
   "outputs": [],
   "source": [
    "## Function to convert columns containing Dictionaries to List:\n",
    "%%R\n",
    "getAttribute <- function(vector) {\n",
    "    vector <- as.vector(str_split(vector, regex(\"[\\\\[{'':,}\\\\]]\"))[[1]])\n",
    "    vector <- vector[!vector == \"\" & !vector == \" \" ]\n",
    "    vector <- as.vector(vector[which(vector ==\"name\")+1])\n",
    "    return(toString(vector))\n",
    "}"
   ]
  },
  {
   "cell_type": "code",
   "execution_count": null,
   "metadata": {
    "id": "IfMnji9wQ3WO"
   },
   "outputs": [],
   "source": [
    "%%R\n",
    "## Converts Currecy as per today's curr value:\n",
    "convert_currency <- function(datum)\n",
    "{  \n",
    "  #retrives a list of currencies seen in datum\n",
    "  curr_type = unique(str_sub(datum,1,4))\n",
    "  \n",
    "  for (curr in curr_type){\n",
    "    #Fetches the currency Valye using priceR package\n",
    "    exch_rate = exchange_rate_latest(curr)\n",
    "    conversion_value = as.double(exch_rate[exch_rate[1] == \"USD\"])[2]\n",
    "    # Retrieved values in data with curr currency\n",
    "    sub_datum = datum[str_sub(datum,1,4)==curr]\n",
    "    for (data in sub_datum)\n",
    "    {\n",
    "      ind = which(datum == data)\n",
    "      value = as.double(str_sub(data,5))\n",
    "      res = as.integer(value * conversion_value)\n",
    "      datum[ind] = res\n",
    "    }\n",
    "  }\n",
    "  return(datum)\n",
    "}"
   ]
  },
  {
   "cell_type": "code",
   "execution_count": null,
   "metadata": {
    "id": "ypp7khq6KJhh"
   },
   "outputs": [],
   "source": [
    "%%R\n",
    "csc <- function(x,colname,df){\n",
    "    \n",
    "    ncols <- NULL\n",
    "    colm <- NULL\n",
    "    ncols <- max(stringr::str_count(x,\", \")) + 1\n",
    "    colm <- paste(colname,1:ncols,sep=\"_\")\n",
    "    \n",
    "    df <- tidyr::separate(data = df, col = colname, sep = \", \", into = colm, remove = FALSE)\n",
    "    unique_val_list <- data.frame(matrix(ncol = 1, nrow = 0))\n",
    "    colnames(unique_val_list) <- colm[1]\n",
    "    for(i in colm)\n",
    "    { \n",
    "      colnames(unique_val_list) <- i\n",
    "      tmp <- as.data.frame(unique(df[,i]))\n",
    "      colnames(tmp) <- i \n",
    "      unique_val_list <- rbind(as.data.frame(unique_val_list),tmp)\n",
    "    }\n",
    "\n",
    "    unique_val_list <- as.data.frame(unique(unique_val_list))\n",
    "    unique_val_list <- as.data.frame(na.omit(unique_val_list))\n",
    "    \n",
    "    for(i in 1:length(unique_val_list[,1]))\n",
    "    {\n",
    "        df[unique_val_list[i,1]] <- 0\n",
    "    }\n",
    "\n",
    "    for(i in 1:nrow(df))\n",
    "    {\n",
    "      for(j in colm)\n",
    "      { \n",
    "        if(!is.na(df[i,j]))\n",
    "        {\n",
    "            k <- as.character(df[i,j])\n",
    "            df[i,k] = 1\n",
    "        } \n",
    "      }\n",
    "    }\n",
    "    df <- select(df, -colm)\n",
    "    return (df) \n",
    "}"
   ]
  },
  {
   "cell_type": "code",
   "execution_count": null,
   "metadata": {
    "id": "NvF1Bd7zpYGq"
   },
   "outputs": [],
   "source": [
    "## Keeping necessary Columns only.\n",
    "%%R\n",
    "stage_1 <- stage_1[to_keep_columns]"
   ]
  },
  {
   "cell_type": "code",
   "execution_count": null,
   "metadata": {
    "id": "cs-sm0PFlKpH"
   },
   "outputs": [],
   "source": [
    "## Converting all Dictionary kinda Cols into Lists\n",
    "%%R\n",
    "stage_1$genres <- sapply(stage_1$genres,getAttribute, USE.NAMES = FALSE, simplify = \"array\") # Genres Column\n",
    "stage_1$production_countries <- sapply(stage_1$production_countries,getAttribute, USE.NAMES = FALSE, simplify = \"array\")\n",
    "\n"
   ]
  },
  {
   "cell_type": "code",
   "execution_count": null,
   "metadata": {
    "id": "TpiJRpLavjKK"
   },
   "outputs": [],
   "source": [
    "#Replacing blank values with NA and then omitting the NAs.\n",
    "%%R\n",
    "stage_1 <- stage_1 %>%\n",
    "  mutate(genres = ifelse(genres == '', NA, genres)) %>%\n",
    "  mutate(production_countries = ifelse(production_countries == '', NA, production_countries))\n"
   ]
  },
  {
   "cell_type": "code",
   "execution_count": null,
   "metadata": {
    "id": "dvEm2pfnNiBs"
   },
   "outputs": [],
   "source": [
    "# Joining the files movies metadata and IMDB movies.\n",
    "%%R\n",
    "IMDB_movies <- as_tibble(read_csv(\"/content/drive/MyDrive/IDMP PROJECT/IMDb movies.csv\"))\n",
    "IMDB_rating <- as_tibble(read_csv(\"/content/drive/MyDrive/IDMP PROJECT/IMDb ratings.csv\"))\n",
    "stage_1 <- dplyr::inner_join(stage_1,\n",
    "                             select(IMDB_movies,year,imdb_title_id,director,budget,worlwide_gross_income),\n",
    "                             by = c(\"imdb_id\" = \"imdb_title_id\"))\n",
    "stage_1 <- dplyr::inner_join(stage_1,\n",
    "                             select(IMDB_rating,imdb_title_id,weighted_average_vote),\n",
    "                             by = c(\"imdb_id\" = \"imdb_title_id\"))\n",
    "stage_1 <- na.omit(stage_1)"
   ]
  },
  {
   "cell_type": "code",
   "execution_count": null,
   "metadata": {
    "id": "2TlCf8oOTBCl"
   },
   "outputs": [],
   "source": [
    "%%R\n",
    "stage_1$budget[!str_detect(stage_1$budget, \"^\\\\$\")] = convert_currency(stage_1$budget[!str_detect(stage_1$budget, \"^\\\\$\")])# Currency Conversion\n",
    "stage_1$worlwide_gross_income[!str_detect(stage_1$worlwide_gross_income, \"^\\\\$\")] = convert_currency(stage_1$worlwide_gross_income[!str_detect(stage_1$worlwide_gross_income, \"^\\\\$\")]) # Currency Conversion\n",
    "stage_1 = na.omit(stage_1)\n",
    "\n",
    "stage_1$budget[str_detect(stage_1$budget, \"^\\\\$\")]= as.numeric(str_sub(stage_1$budget[str_detect(stage_1$budget, \"^\\\\$\")],3)) # Dollar removal\n",
    "stage_1$worlwide_gross_income[str_detect(stage_1$worlwide_gross_income, \"^\\\\$\")]= as.numeric(str_sub(stage_1$worlwide_gross_income[str_detect(stage_1$worlwide_gross_income, \"^\\\\$\")],3)) #Dollar Removal\n",
    "stage_1$budget = as.numeric(stage_1$budget)\n",
    "stage_1$worlwide_gross_income = as.numeric(stage_1$worlwide_gross_income)\n",
    "\n",
    "stage_1 = stage_1 %>% \n",
    "  mutate(\"hit/not\" = ifelse(worlwide_gross_income/ budget > 1.0, 1, 0))\n",
    "\n",
    "stage_1 <- na.omit(stage_1)"
   ]
  },
  {
   "cell_type": "markdown",
   "metadata": {
    "id": "kQnKQ_POuGHB"
   },
   "source": [
    "Stage 1 data\n",
    "-genre (unnecesary values that are not genre)\n",
    "deleting values from adult columns that are not logical"
   ]
  },
  {
   "cell_type": "code",
   "execution_count": null,
   "metadata": {
    "id": "umR8TYPuF8B6"
   },
   "outputs": [],
   "source": [
    "%%R\n",
    "stage_1 <- as.data.frame(csc(stage_1$production_countries, \"production_countries\",stage_1))"
   ]
  },
  {
   "cell_type": "code",
   "execution_count": null,
   "metadata": {
    "id": "S7yIzqXSTu3P"
   },
   "outputs": [],
   "source": [
    "%%R\n",
    "stage_1 <- as.data.frame(csc(stage_1$genres, \"genres\",stage_1))\n"
   ]
  },
  {
   "cell_type": "code",
   "execution_count": null,
   "metadata": {
    "id": "7fVc4sdQKvNT"
   },
   "outputs": [],
   "source": [
    "%%R\n",
    "lang_codes <- as_tibble(read_csv(\"/content/drive/MyDrive/IDMP PROJECT/language_codes_csv.csv\"))\n",
    "stage_1 <- dplyr::left_join(stage_1,lang_codes,\n",
    "                             by = c(\"original_language\" = \"alpha2\"),\n",
    "                            keep = FALSE)"
   ]
  },
  {
   "cell_type": "code",
   "execution_count": null,
   "metadata": {
    "id": "pBSQW4WLrAk2"
   },
   "outputs": [],
   "source": [
    "%%R\n",
    "stage_1 <- relocate(stage_1, `hit/not`, .after = last_col())"
   ]
  },
  {
   "cell_type": "code",
   "execution_count": null,
   "metadata": {
    "id": "smuIloJUTlFP"
   },
   "outputs": [],
   "source": [
    "%%R\n",
    "write.csv(stage_1,\"/content/drive/MyDrive/IDMP PROJECT/cleaned_merged.csv\", row.names = FALSE)"
   ]
  },
  {
   "cell_type": "code",
   "execution_count": null,
   "metadata": {
    "id": "ZSMvmi-A61Z9"
   },
   "outputs": [],
   "source": [
    "%%R\n",
    "## Percentage of hits in our dataset\n",
    "length(stage_1$`hit/not`[stage_1$`hit/not`==1]) / length(stage_1$`hit/not`) #/ sum(merged$`hit/not`==0)\n"
   ]
  },
  {
   "cell_type": "code",
   "execution_count": null,
   "metadata": {
    "id": "KqJi3g1EOp_y"
   },
   "outputs": [],
   "source": [
    "%%R\n",
    "nrow(stage_1)"
   ]
  }
 ],
 "metadata": {
  "colab": {
   "collapsed_sections": [],
   "name": "1_Data_Cleaning.ipynb",
   "provenance": []
  },
  "kernelspec": {
   "display_name": "Python 3 (ipykernel)",
   "language": "python",
   "name": "python3"
  },
  "language_info": {
   "codemirror_mode": {
    "name": "ipython",
    "version": 3
   },
   "file_extension": ".py",
   "mimetype": "text/x-python",
   "name": "python",
   "nbconvert_exporter": "python",
   "pygments_lexer": "ipython3",
   "version": "3.10.0"
  }
 },
 "nbformat": 4,
 "nbformat_minor": 1
}
